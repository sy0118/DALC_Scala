{
  "nbformat": 4,
  "nbformat_minor": 0,
  "metadata": {
    "colab": {
      "name": "공통기초스터디_6주차_과제.ipynb",
      "provenance": []
    },
    "kernelspec": {
      "name": "python3",
      "display_name": "Python 3"
    },
    "language_info": {
      "name": "python"
    }
  },
  "cells": [
    {
      "cell_type": "markdown",
      "metadata": {
        "id": "Cs2JRIwhuuxD"
      },
      "source": [
        "## 머신러닝\n",
        "## 회귀분석"
      ]
    },
    {
      "cell_type": "code",
      "metadata": {
        "colab": {
          "base_uri": "https://localhost:8080/",
          "height": 268
        },
        "id": "eOht_vMFuuAr",
        "outputId": "8e610817-e0a8-4915-e24e-aa8ac07b9a04"
      },
      "source": [
        "import matplotlib.pyplot as plt\n",
        "import numpy as np\n",
        "rng = np.random.RandomState(43)\n",
        "x = 10 * rng.rand(50)\n",
        "y = 2 *x -1 + rng.randn(50)\n",
        "plt.scatter(x, y);"
      ],
      "execution_count": 3,
      "outputs": [
        {
          "output_type": "display_data",
          "data": {
            "image/png": "[encoded data removed]",
            "text/plain": [
              "<Figure size 432x288 with 1 Axes>"
            ]
          },
          "metadata": {
            "tags": [],
            "needs_background": "light"
          }
        }
      ]
    },
    {
      "cell_type": "code",
      "metadata": {
        "id": "VlnXw5SVuwAf"
      },
      "source": [
        "from sklearn.linear_model import LinearRegression"
      ],
      "execution_count": 4,
      "outputs": []
    },
    {
      "cell_type": "code",
      "metadata": {
        "id": "jBGVJfKhux6V"
      },
      "source": [
        "model = LinearRegression(fit_intercept = True)\n",
        "# 절편 사용 여부\n",
        "# 절편 사용 O = True"
      ],
      "execution_count": 5,
      "outputs": []
    },
    {
      "cell_type": "code",
      "metadata": {
        "colab": {
          "base_uri": "https://localhost:8080/"
        },
        "id": "MBefPtowuzyh",
        "outputId": "4b436fe5-2622-4b8b-a659-1b08fd8f7e80"
      },
      "source": [
        "X = x[:, np.newaxis]\n",
        "X.shape"
      ],
      "execution_count": 6,
      "outputs": [
        {
          "output_type": "execute_result",
          "data": {
            "text/plain": [
              "(50, 1)"
            ]
          },
          "metadata": {
            "tags": []
          },
          "execution_count": 6
        }
      ]
    },
    {
      "cell_type": "code",
      "metadata": {
        "colab": {
          "base_uri": "https://localhost:8080/"
        },
        "id": "aeaJePJFu46d",
        "outputId": "0dfe1af3-0331-40a8-a97f-5288b831922d"
      },
      "source": [
        "X = x.reshape(50, 1)\n",
        "X.shape"
      ],
      "execution_count": 7,
      "outputs": [
        {
          "output_type": "execute_result",
          "data": {
            "text/plain": [
              "(50, 1)"
            ]
          },
          "metadata": {
            "tags": []
          },
          "execution_count": 7
        }
      ]
    },
    {
      "cell_type": "code",
      "metadata": {
        "colab": {
          "base_uri": "https://localhost:8080/"
        },
        "id": "euZRLI6su7M2",
        "outputId": "1e31c73a-46df-4599-b2c3-f61a837a2d84"
      },
      "source": [
        "model.fit(X, y)"
      ],
      "execution_count": 8,
      "outputs": [
        {
          "output_type": "execute_result",
          "data": {
            "text/plain": [
              "LinearRegression(copy_X=True, fit_intercept=True, n_jobs=None, normalize=False)"
            ]
          },
          "metadata": {
            "tags": []
          },
          "execution_count": 8
        }
      ]
    },
    {
      "cell_type": "code",
      "metadata": {
        "colab": {
          "base_uri": "https://localhost:8080/"
        },
        "id": "VUk0yWnuu9Pi",
        "outputId": "f90ee78a-6591-4104-9327-78824ffbdcc3"
      },
      "source": [
        "print(model.coef_)\n",
        "print(model.intercept_)"
      ],
      "execution_count": 9,
      "outputs": [
        {
          "output_type": "stream",
          "text": [
            "[2.01683924]\n",
            "-1.0244613189684806\n"
          ],
          "name": "stdout"
        }
      ]
    },
    {
      "cell_type": "markdown",
      "metadata": {
        "id": "jrwEfr1DvA5n"
      },
      "source": [
        "### 모델 시각화"
      ]
    },
    {
      "cell_type": "code",
      "metadata": {
        "colab": {
          "base_uri": "https://localhost:8080/",
          "height": 283
        },
        "id": "mu49IJMcu_Ou",
        "outputId": "2464250b-ac3b-47c0-93e4-b89f68f8f729"
      },
      "source": [
        "xfit = np.linspace(-1, 11)\n",
        "plt.scatter(x, y)\n",
        "plt.plot(xfit, model.coef_ * xfit + model.intercept_, '-r')"
      ],
      "execution_count": 10,
      "outputs": [
        {
          "output_type": "execute_result",
          "data": {
            "text/plain": [
              "[<matplotlib.lines.Line2D at 0x7f51fb550390>]"
            ]
          },
          "metadata": {
            "tags": []
          },
          "execution_count": 10
        },
        {
          "output_type": "display_data",
          "data": {
            "image/png": "[encoded data removed]",
            "text/plain": [
              "<Figure size 432x288 with 1 Axes>"
            ]
          },
          "metadata": {
            "tags": [],
            "needs_background": "light"
          }
        }
      ]
    },
    {
      "cell_type": "code",
      "metadata": {
        "id": "WnSD_4yDvC5F"
      },
      "source": [
        "from sklearn.preprocessing import  PolynomialFeatures\n",
        "from sklearn.linear_model import LinearRegression\n",
        "from sklearn.pipeline import make_pipeline\n",
        "\n",
        "def PolynomialRegression(degree=2, **kwargs):\n",
        "  return make_pipeline(PolynomialFeatures(degree), LinearRegression(**kwargs))"
      ],
      "execution_count": 17,
      "outputs": []
    },
    {
      "cell_type": "markdown",
      "metadata": {
        "id": "VuyjSr5KvGsX"
      },
      "source": [
        "### data 생성"
      ]
    },
    {
      "cell_type": "code",
      "metadata": {
        "id": "XstIgNIuvE2E"
      },
      "source": [
        "import numpy as np\n",
        "def make_data(N, err = 1.0, rseed = 1):\n",
        "    rng = np.random.RandomState(rseed)\n",
        "    X = rng.rand(N) ** 2\n",
        "    y = 10-1./(X+0.1)\n",
        "    if err>0:\n",
        "        y += err * rng.randn(N)\n",
        "        return X, y\n",
        "    \n",
        "X, y = make_data(40)"
      ],
      "execution_count": 18,
      "outputs": []
    },
    {
      "cell_type": "markdown",
      "metadata": {
        "id": "utIA_YCyvKZa"
      },
      "source": [
        "### data 시각화"
      ]
    },
    {
      "cell_type": "code",
      "metadata": {
        "colab": {
          "base_uri": "https://localhost:8080/",
          "height": 268
        },
        "id": "fScq8jA4vHjL",
        "outputId": "dcf51d6e-506f-4109-b258-2ca19002bd81"
      },
      "source": [
        "%matplotlib inline\n",
        "import matplotlib.pyplot as plt\n",
        "import seaborn;\n",
        "seaborn.set()\n",
        "\n",
        "X_test = np.linspace(-0.1, 1.1, 500)\n",
        "plt.scatter(X, y, color = 'black')\n",
        "axis = plt.axis()"
      ],
      "execution_count": 19,
      "outputs": [
        {
          "output_type": "display_data",
          "data": {
            "image/png": "[encoded data removed]",
            "text/plain": [
              "<Figure size 432x288 with 1 Axes>"
            ]
          },
          "metadata": {
            "tags": []
          }
        }
      ]
    },
    {
      "cell_type": "code",
      "metadata": {
        "colab": {
          "base_uri": "https://localhost:8080/",
          "height": 272
        },
        "id": "zwAmt4d2vNgF",
        "outputId": "b0b48df8-987f-4728-d502-64d2a0746e21"
      },
      "source": [
        "plt.scatter(X,y,color='black')\n",
        "\n",
        "for degree in [1,2,3]:    \n",
        "  model=PolynomialRegression(degree)\n",
        "  model.fit(X[:,np.newaxis],y)\n",
        "  y_test=model.predict(X_test[:,np.newaxis])\n",
        "  plt.plot(X_test,y_test,label=f'Degree={degree}')\n",
        "\n",
        "  plt.axis([-0.1,1.0,-2,12])\n",
        "  plt.legend(loc='best')"
      ],
      "execution_count": 20,
      "outputs": [
        {
          "output_type": "display_data",
          "data": {
            "image/png": "[encoded data removed]",
            "text/plain": [
              "<Figure size 432x288 with 1 Axes>"
            ]
          },
          "metadata": {
            "tags": []
          }
        }
      ]
    },
    {
      "cell_type": "code",
      "metadata": {
        "id": "AZXvVEA-vR7Q"
      },
      "source": [
        ""
      ],
      "execution_count": null,
      "outputs": []
    }
  ]
}