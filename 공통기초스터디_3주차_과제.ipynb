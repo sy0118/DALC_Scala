{
  "nbformat": 4,
  "nbformat_minor": 0,
  "metadata": {
    "colab": {
      "name": "공통기초스터디 3주차 과제.ipynb",
      "provenance": []
    },
    "kernelspec": {
      "name": "python3",
      "display_name": "Python 3"
    },
    "language_info": {
      "name": "python"
    }
  },
  "cells": [
    {
      "cell_type": "markdown",
      "metadata": {
        "id": "QhoGMJqUVs-1"
      },
      "source": [
        "### 1.빅데이터 분석 및 처리"
      ]
    },
    {
      "cell_type": "markdown",
      "metadata": {
        "id": "OOVoQ2X7V4sx"
      },
      "source": [
        "#### 빅데이터"
      ]
    },
    {
      "cell_type": "markdown",
      "metadata": {
        "id": "donLuUWNWgSf"
      },
      "source": [
        "- 기존의 전통적 데이터 관리 기법으로 데이터의 수집이나 저장, 분석 등을 다루기 어려운 정형 및 비정형 데이터"
      ]
    },
    {
      "cell_type": "markdown",
      "metadata": {
        "id": "aG11NMPeWgXj"
      },
      "source": [
        "#### R"
      ]
    },
    {
      "cell_type": "markdown",
      "metadata": {
        "id": "EnklSseCWgZv"
      },
      "source": [
        "- 통계 계산과 그래픽을 위한 프로그래밍 언어이자 소프트웨어 환경"
      ]
    },
    {
      "cell_type": "markdown",
      "metadata": {
        "id": "SosbYJ_uWgb4"
      },
      "source": [
        "#### python"
      ]
    },
    {
      "cell_type": "markdown",
      "metadata": {
        "id": "5CvZD_lIWgds"
      },
      "source": [
        "- 연산능력을 극대화 시켜주는 오프소스 라이브러리가 풍부\n",
        "- 높은 접근성, 대용량 데이터 처리에 유연성을 가짐\n",
        "- 다양한 패키지가 목적에 맞게 개발"
      ]
    },
    {
      "cell_type": "markdown",
      "metadata": {
        "id": "4D-hfLlXWgfe"
      },
      "source": [
        "### 2.데이터 저장 및 가공"
      ]
    },
    {
      "cell_type": "markdown",
      "metadata": {
        "id": "nWw4HSwQWghf"
      },
      "source": [
        "#### 데이터 분석"
      ]
    },
    {
      "cell_type": "markdown",
      "metadata": {
        "id": "1sZmD_2RYwZj"
      },
      "source": [
        "- 숫자 배열을 효율적으로 저장하고 가공하는 것은 빅데이터 분석을 위한 기본 절차\n",
        "- 숫자 배열을 전문적으로 다루는 Numpy 패키지 제공"
      ]
    },
    {
      "cell_type": "markdown",
      "metadata": {
        "id": "6PhNqWG_Yw2J"
      },
      "source": [
        "### 3.Numpy 패키지"
      ]
    },
    {
      "cell_type": "markdown",
      "metadata": {
        "id": "U_plxhkLYw4d"
      },
      "source": [
        "#### 넘파이(Numerical Python)"
      ]
    },
    {
      "cell_type": "markdown",
      "metadata": {
        "id": "dMCCXDulYw6F"
      },
      "source": [
        "- 벡터 및 행렬 연산에 유용한 기능 제공\n",
        "- 빅데이터 분석 및 처리를 위해 사용되는 라이브러리\n",
        "(pandas와 matplotlib에서 기본으로 사용)\n",
        "- array(동일한 데이터 타입을 갖는 벡터나 행렬) 단위로 사용"
      ]
    },
    {
      "cell_type": "markdown",
      "metadata": {
        "id": "zW5o7JvJYw7v"
      },
      "source": [
        "### 4.행렬 생성"
      ]
    },
    {
      "cell_type": "code",
      "metadata": {
        "colab": {
          "base_uri": "https://localhost:8080/"
        },
        "id": "NxmKXggIZeTQ",
        "outputId": "9e82d715-0d6e-4756-9ce6-85ae7a1f1e73"
      },
      "source": [
        "import numpy as np\n",
        "\n",
        "data1 = [1,2,3,4,5]\n",
        "data2 = [6,5,4,3,2,1]\n",
        "print(data1, data2)"
      ],
      "execution_count": 1,
      "outputs": [
        {
          "output_type": "stream",
          "text": [
            "[1, 2, 3, 4, 5] [6, 5, 4, 3, 2, 1]\n"
          ],
          "name": "stdout"
        }
      ]
    },
    {
      "cell_type": "code",
      "metadata": {
        "colab": {
          "base_uri": "https://localhost:8080/"
        },
        "id": "Y4D5nukVZeVH",
        "outputId": "7e04d0a2-c4a0-405e-d463-f6aceac44249"
      },
      "source": [
        "ar1 = np.array(data1)\n",
        "ar1"
      ],
      "execution_count": 2,
      "outputs": [
        {
          "output_type": "execute_result",
          "data": {
            "text/plain": [
              "array([1, 2, 3, 4, 5])"
            ]
          },
          "metadata": {
            "tags": []
          },
          "execution_count": 2
        }
      ]
    },
    {
      "cell_type": "code",
      "metadata": {
        "colab": {
          "base_uri": "https://localhost:8080/"
        },
        "id": "AmPisRnzZeXL",
        "outputId": "f5c59ec9-56be-4c4a-c30f-576d6fbdfd59"
      },
      "source": [
        "ar2 = np.array(data1, dtype = 'float')\n",
        "ar2"
      ],
      "execution_count": 3,
      "outputs": [
        {
          "output_type": "execute_result",
          "data": {
            "text/plain": [
              "array([1., 2., 3., 4., 5.])"
            ]
          },
          "metadata": {
            "tags": []
          },
          "execution_count": 3
        }
      ]
    },
    {
      "cell_type": "code",
      "metadata": {
        "colab": {
          "base_uri": "https://localhost:8080/"
        },
        "id": "o0o1EmKbZeYw",
        "outputId": "74280137-e9a3-4c6e-fa7c-2ec4c38f86ed"
      },
      "source": [
        "ar3 = np.array([range(i, i+3) for i in data1])\n",
        "ar3"
      ],
      "execution_count": 4,
      "outputs": [
        {
          "output_type": "execute_result",
          "data": {
            "text/plain": [
              "array([[1, 2, 3],\n",
              "       [2, 3, 4],\n",
              "       [3, 4, 5],\n",
              "       [4, 5, 6],\n",
              "       [5, 6, 7]])"
            ]
          },
          "metadata": {
            "tags": []
          },
          "execution_count": 4
        }
      ]
    },
    {
      "cell_type": "code",
      "metadata": {
        "colab": {
          "base_uri": "https://localhost:8080/"
        },
        "id": "RjqO8572ZjoG",
        "outputId": "6d47a77f-2cfd-466a-f9a8-c78e046c5ea3"
      },
      "source": [
        "ar4 = np.full((3,5),3.14)\n",
        "ar4\n",
        "\n",
        "# .full ((행렬의 크기), 지정 값)"
      ],
      "execution_count": 5,
      "outputs": [
        {
          "output_type": "execute_result",
          "data": {
            "text/plain": [
              "array([[3.14, 3.14, 3.14, 3.14, 3.14],\n",
              "       [3.14, 3.14, 3.14, 3.14, 3.14],\n",
              "       [3.14, 3.14, 3.14, 3.14, 3.14]])"
            ]
          },
          "metadata": {
            "tags": []
          },
          "execution_count": 5
        }
      ]
    },
    {
      "cell_type": "code",
      "metadata": {
        "colab": {
          "base_uri": "https://localhost:8080/"
        },
        "id": "93tlNhqkZjqP",
        "outputId": "2b16595e-a269-4c3f-a560-9737b3a7f6a9"
      },
      "source": [
        "ar5 = np.arange(0, 20, 2)\n",
        "ar5"
      ],
      "execution_count": 6,
      "outputs": [
        {
          "output_type": "execute_result",
          "data": {
            "text/plain": [
              "array([ 0,  2,  4,  6,  8, 10, 12, 14, 16, 18])"
            ]
          },
          "metadata": {
            "tags": []
          },
          "execution_count": 6
        }
      ]
    },
    {
      "cell_type": "code",
      "metadata": {
        "colab": {
          "base_uri": "https://localhost:8080/"
        },
        "id": "Fzg7E66rZjtT",
        "outputId": "43eca629-1d49-465b-ef8a-02aeb5685b6b"
      },
      "source": [
        "ar6 = np.linspace(0, 1, 3)\n",
        "ar6\n",
        "\n",
        "# 0.5 간격의 3가지 요소 배열"
      ],
      "execution_count": 11,
      "outputs": [
        {
          "output_type": "execute_result",
          "data": {
            "text/plain": [
              "array([0. , 0.5, 1. ])"
            ]
          },
          "metadata": {
            "tags": []
          },
          "execution_count": 11
        }
      ]
    },
    {
      "cell_type": "code",
      "metadata": {
        "colab": {
          "base_uri": "https://localhost:8080/"
        },
        "id": "Cymr-wWgZoes",
        "outputId": "179d5959-39a9-4758-c6b0-547b25398301"
      },
      "source": [
        "ar7 = np.random.random((3,3))\n",
        "ar7\n",
        "\n",
        "# 3x3 행렬을 생성, 0과 1 사이의 랜덤 값으로 채움"
      ],
      "execution_count": 12,
      "outputs": [
        {
          "output_type": "execute_result",
          "data": {
            "text/plain": [
              "array([[0.71952495, 0.68838003, 0.5709802 ],\n",
              "       [0.69350026, 0.90606211, 0.19579569],\n",
              "       [0.32878231, 0.25842921, 0.59086348]])"
            ]
          },
          "metadata": {
            "tags": []
          },
          "execution_count": 12
        }
      ]
    },
    {
      "cell_type": "code",
      "metadata": {
        "colab": {
          "base_uri": "https://localhost:8080/"
        },
        "id": "AycljOUoZogx",
        "outputId": "66e63687-6719-4719-f20e-0ab69e926813"
      },
      "source": [
        "ar8 = np.random.randint(0, 100, (3,3))\n",
        "ar8\n",
        "\n",
        "# 0과 100 사이 (구간의 시작, 구간의 끝)\n",
        "# 3x3 배열크기"
      ],
      "execution_count": 13,
      "outputs": [
        {
          "output_type": "execute_result",
          "data": {
            "text/plain": [
              "array([[13, 15, 77],\n",
              "       [27, 51, 31],\n",
              "       [11, 69, 57]])"
            ]
          },
          "metadata": {
            "tags": []
          },
          "execution_count": 13
        }
      ]
    },
    {
      "cell_type": "code",
      "metadata": {
        "colab": {
          "base_uri": "https://localhost:8080/"
        },
        "id": "LyGHlUQmZoiT",
        "outputId": "fa20db27-e786-4f8a-8976-027286ad20e8"
      },
      "source": [
        "ar9 = np.eye(3)\n",
        "ar9"
      ],
      "execution_count": 10,
      "outputs": [
        {
          "output_type": "execute_result",
          "data": {
            "text/plain": [
              "array([[1., 0., 0.],\n",
              "       [0., 1., 0.],\n",
              "       [0., 0., 1.]])"
            ]
          },
          "metadata": {
            "tags": []
          },
          "execution_count": 10
        }
      ]
    },
    {
      "cell_type": "markdown",
      "metadata": {
        "id": "igVuAJRVZaFb"
      },
      "source": [
        "### 5.배열 분할, 재구성, 결합"
      ]
    },
    {
      "cell_type": "code",
      "metadata": {
        "colab": {
          "base_uri": "https://localhost:8080/"
        },
        "id": "B_wtxXTSaD5d",
        "outputId": "9acfea80-b208-4e32-dfe0-51f86db24fe2"
      },
      "source": [
        "x = np.random.randint(10, size=(3,4,5))\n",
        "x"
      ],
      "execution_count": 14,
      "outputs": [
        {
          "output_type": "execute_result",
          "data": {
            "text/plain": [
              "array([[[2, 8, 6, 1, 0],\n",
              "        [0, 2, 5, 6, 7],\n",
              "        [6, 2, 4, 9, 7],\n",
              "        [7, 6, 2, 8, 2]],\n",
              "\n",
              "       [[1, 7, 0, 0, 0],\n",
              "        [0, 9, 5, 9, 1],\n",
              "        [5, 5, 4, 8, 6],\n",
              "        [3, 8, 0, 1, 8]],\n",
              "\n",
              "       [[5, 9, 9, 3, 5],\n",
              "        [5, 6, 9, 2, 6],\n",
              "        [4, 8, 4, 2, 4],\n",
              "        [6, 1, 7, 5, 0]]])"
            ]
          },
          "metadata": {
            "tags": []
          },
          "execution_count": 14
        }
      ]
    },
    {
      "cell_type": "code",
      "metadata": {
        "colab": {
          "base_uri": "https://localhost:8080/"
        },
        "id": "BWPRhgVEaD7w",
        "outputId": "3cf59ada-85b7-48ff-c01e-904ed0896be9"
      },
      "source": [
        "print(\"x ndim:\", x.ndim) #차원의 개수\n",
        "print(\"x shape:\", x.shape) #차원의 크기\n",
        "print(\"x size:\", x.size) #전체 배열 크기"
      ],
      "execution_count": 19,
      "outputs": [
        {
          "output_type": "stream",
          "text": [
            "x ndim: 3\n",
            "x shape: (3, 4, 5)\n",
            "x size: 60\n"
          ],
          "name": "stdout"
        }
      ]
    },
    {
      "cell_type": "code",
      "metadata": {
        "colab": {
          "base_uri": "https://localhost:8080/"
        },
        "id": "WJI7wY-taD9K",
        "outputId": "fb41e754-5a11-4d00-d0e4-f5c4baeaf9a3"
      },
      "source": [
        "y = np.array([2,4,6,8,10])\n",
        "print(y[0], y[-2])"
      ],
      "execution_count": 16,
      "outputs": [
        {
          "output_type": "stream",
          "text": [
            "2 8\n"
          ],
          "name": "stdout"
        }
      ]
    },
    {
      "cell_type": "code",
      "metadata": {
        "colab": {
          "base_uri": "https://localhost:8080/"
        },
        "id": "yfYUO177aD-r",
        "outputId": "1ddaa2a2-0c82-4c7b-c650-f78ee86f8ac4"
      },
      "source": [
        "z = np.array([[2,4,6,8,10], [3,6,9,12,15]])\n",
        "print(z[1,0])"
      ],
      "execution_count": 17,
      "outputs": [
        {
          "output_type": "stream",
          "text": [
            "3\n"
          ],
          "name": "stdout"
        }
      ]
    },
    {
      "cell_type": "code",
      "metadata": {
        "colab": {
          "base_uri": "https://localhost:8080/"
        },
        "id": "JBxgRKYraEAo",
        "outputId": "4d1b17e6-6434-4dc0-9067-692dd56c8096"
      },
      "source": [
        "z[0,0] = 12\n",
        "z"
      ],
      "execution_count": 18,
      "outputs": [
        {
          "output_type": "execute_result",
          "data": {
            "text/plain": [
              "array([[12,  4,  6,  8, 10],\n",
              "       [ 3,  6,  9, 12, 15]])"
            ]
          },
          "metadata": {
            "tags": []
          },
          "execution_count": 18
        }
      ]
    }
  ]
}