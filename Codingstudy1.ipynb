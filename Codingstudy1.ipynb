{
  "nbformat": 4,
  "nbformat_minor": 0,
  "metadata": {
    "colab": {
      "name": "Codingstudy1.ipynb",
      "provenance": [],
      "collapsed_sections": []
    },
    "kernelspec": {
      "name": "python3",
      "display_name": "Python 3"
    }
  },
  "cells": [
    {
      "cell_type": "markdown",
      "metadata": {
        "id": "WOqPDIep6P8e"
      },
      "source": [
        "### 2장"
      ]
    },
    {
      "cell_type": "code",
      "metadata": {
        "colab": {
          "base_uri": "https://localhost:8080/"
        },
        "id": "4AnuOTep7Npf",
        "outputId": "fa59a7d5-32ed-4a91-92a5-0a1e72b3b66e"
      },
      "source": [
        "sum1 = 0\r\n",
        "for i in range(1,10+1):\r\n",
        "  sum1 += i\r\n",
        "\r\n",
        "sum1"
      ],
      "execution_count": 1,
      "outputs": [
        {
          "output_type": "execute_result",
          "data": {
            "text/plain": [
              "55"
            ]
          },
          "metadata": {
            "tags": []
          },
          "execution_count": 1
        }
      ]
    },
    {
      "cell_type": "code",
      "metadata": {
        "colab": {
          "base_uri": "https://localhost:8080/"
        },
        "id": "aafsaMhl7Ny9",
        "outputId": "84c2642f-f08f-4ff8-ca24-c7ddc8630ce3"
      },
      "source": [
        "sum2 = sum(i for i in range(1,10+1))\r\n",
        "sum2"
      ],
      "execution_count": 2,
      "outputs": [
        {
          "output_type": "execute_result",
          "data": {
            "text/plain": [
              "55"
            ]
          },
          "metadata": {
            "tags": []
          },
          "execution_count": 2
        }
      ]
    },
    {
      "cell_type": "code",
      "metadata": {
        "colab": {
          "base_uri": "https://localhost:8080/"
        },
        "id": "8Jg1oIye7N25",
        "outputId": "6bf27449-7711-4358-a3a3-c732fee59830"
      },
      "source": [
        "sum3 = sum(range(1,10+1))\r\n",
        "sum3"
      ],
      "execution_count": 3,
      "outputs": [
        {
          "output_type": "execute_result",
          "data": {
            "text/plain": [
              "55"
            ]
          },
          "metadata": {
            "tags": []
          },
          "execution_count": 3
        }
      ]
    },
    {
      "cell_type": "code",
      "metadata": {
        "colab": {
          "base_uri": "https://localhost:8080/"
        },
        "id": "pq9-7Ulu7N7D",
        "outputId": "33611df8-aed3-4170-fb56-a138ac219d7f"
      },
      "source": [
        "def are_equal(a,b):\r\n",
        "  return a==b\r\n",
        "\r\n",
        "are_equal(10,10.0)"
      ],
      "execution_count": 4,
      "outputs": [
        {
          "output_type": "execute_result",
          "data": {
            "text/plain": [
              "True"
            ]
          },
          "metadata": {
            "tags": []
          },
          "execution_count": 4
        }
      ]
    },
    {
      "cell_type": "code",
      "metadata": {
        "colab": {
          "base_uri": "https://localhost:8080/"
        },
        "id": "ewec0VnE9eXl",
        "outputId": "2134299e-50bf-4687-fa29-f481576f1e5a"
      },
      "source": [
        "from typing import TypeVar\r\n",
        "\r\n",
        "T = TypeVar('T')\r\n",
        "U = TypeVar('U')\r\n",
        "\r\n",
        "def are_equal(a: T, b:U) -> bool:\r\n",
        "  return a==b\r\n",
        "\r\n",
        "are_equal(10,10.0)"
      ],
      "execution_count": 5,
      "outputs": [
        {
          "output_type": "execute_result",
          "data": {
            "text/plain": [
              "True"
            ]
          },
          "metadata": {
            "tags": []
          },
          "execution_count": 5
        }
      ]
    },
    {
      "cell_type": "code",
      "metadata": {
        "colab": {
          "base_uri": "https://localhost:8080/"
        },
        "id": "gGTrezY0-pzM",
        "outputId": "035cbf22-f7bf-4328-909d-442a76156567"
      },
      "source": [
        "foo = ['A','B','C']\r\n",
        "for f in foo:\r\n",
        "  print(f)"
      ],
      "execution_count": 6,
      "outputs": [
        {
          "output_type": "stream",
          "text": [
            "A\n",
            "B\n",
            "C\n"
          ],
          "name": "stdout"
        }
      ]
    },
    {
      "cell_type": "code",
      "metadata": {
        "id": "ZbNVqK-e_lA3"
      },
      "source": [
        "from collections import namedtuple\r\n",
        "MyStruct = namedtuple(\"MyStruct\",'field1 field2 field3')\r\n",
        "\r\n",
        "m = MyStruct(\"foo\",\"bar\",\"baz\")"
      ],
      "execution_count": 7,
      "outputs": []
    },
    {
      "cell_type": "code",
      "metadata": {
        "id": "pwCH78_cADws"
      },
      "source": [
        "from dataclasses import dataclass\r\n",
        "\r\n",
        "@dataclass\r\n",
        "class Product:\r\n",
        "  weight: int = None\r\n",
        "  price : float = None\r\n",
        "\r\n",
        "apple = Product()\r\n",
        "apple.price = 10"
      ],
      "execution_count": 8,
      "outputs": []
    },
    {
      "cell_type": "code",
      "metadata": {
        "colab": {
          "base_uri": "https://localhost:8080/"
        },
        "id": "floe8dQXAcb1",
        "outputId": "711d7590-5651-401f-d752-c9621d347ccf"
      },
      "source": [
        "from dataclasses import dataclass\r\n",
        "\r\n",
        "@dataclass\r\n",
        "class Rectangle:\r\n",
        "  width: int\r\n",
        "  height: int\r\n",
        "  \r\n",
        "  def area(self):\r\n",
        "    return self.width * self.height\r\n",
        "\r\n",
        "rect = Rectangle(3,4)\r\n",
        "print(rect.area())"
      ],
      "execution_count": 9,
      "outputs": [
        {
          "output_type": "stream",
          "text": [
            "12\n"
          ],
          "name": "stdout"
        }
      ]
    },
    {
      "cell_type": "markdown",
      "metadata": {
        "id": "gRbeNXx0BZhD"
      },
      "source": [
        "### 3장"
      ]
    },
    {
      "cell_type": "code",
      "metadata": {
        "colab": {
          "base_uri": "https://localhost:8080/"
        },
        "id": "q2DV7RJOCxW6",
        "outputId": "1b085802-055d-48e3-8adc-1ae309efe864"
      },
      "source": [
        "a:str=1\r\n",
        "type(a)"
      ],
      "execution_count": 10,
      "outputs": [
        {
          "output_type": "execute_result",
          "data": {
            "text/plain": [
              "int"
            ]
          },
          "metadata": {
            "tags": []
          },
          "execution_count": 10
        }
      ]
    },
    {
      "cell_type": "code",
      "metadata": {
        "colab": {
          "base_uri": "https://localhost:8080/"
        },
        "id": "xi8YaELgDfPe",
        "outputId": "e87de3bb-c5b8-4a09-fd8b-fbf68cd8fd6b"
      },
      "source": [
        "list(map(lambda x : x+10,[1,2,3]))"
      ],
      "execution_count": 11,
      "outputs": [
        {
          "output_type": "execute_result",
          "data": {
            "text/plain": [
              "[11, 12, 13]"
            ]
          },
          "metadata": {
            "tags": []
          },
          "execution_count": 11
        }
      ]
    },
    {
      "cell_type": "code",
      "metadata": {
        "colab": {
          "base_uri": "https://localhost:8080/"
        },
        "id": "jxcPGyPNDpAt",
        "outputId": "34c373ca-3e69-4d03-a9c5-ca3f97c7a685"
      },
      "source": [
        "[n*2 for n in range(1,10+1) if n%2==1]"
      ],
      "execution_count": 12,
      "outputs": [
        {
          "output_type": "execute_result",
          "data": {
            "text/plain": [
              "[2, 6, 10, 14, 18]"
            ]
          },
          "metadata": {
            "tags": []
          },
          "execution_count": 12
        }
      ]
    },
    {
      "cell_type": "code",
      "metadata": {
        "id": "16FP2AB8FFvR",
        "colab": {
          "base_uri": "https://localhost:8080/"
        },
        "outputId": "7c955eae-5943-4264-87fb-6273c9930ab5"
      },
      "source": [
        "def get_natural_number():\r\n",
        "  n = 0\r\n",
        "  while True:\r\n",
        "    n+=1\r\n",
        "    yield n\r\n",
        "\r\n",
        "get_natural_number()"
      ],
      "execution_count": 13,
      "outputs": [
        {
          "output_type": "execute_result",
          "data": {
            "text/plain": [
              "<generator object get_natural_number at 0x7f45472f89d0>"
            ]
          },
          "metadata": {
            "tags": []
          },
          "execution_count": 13
        }
      ]
    },
    {
      "cell_type": "code",
      "metadata": {
        "id": "WZimasQAFly1",
        "colab": {
          "base_uri": "https://localhost:8080/"
        },
        "outputId": "2c9094e0-ffa2-4069-e0c5-afb45ff1dbce"
      },
      "source": [
        "g = get_natural_number()\r\n",
        "for _ in range(0,5):\r\n",
        "  print(next(g))"
      ],
      "execution_count": 14,
      "outputs": [
        {
          "output_type": "stream",
          "text": [
            "1\n",
            "2\n",
            "3\n",
            "4\n",
            "5\n"
          ],
          "name": "stdout"
        }
      ]
    },
    {
      "cell_type": "code",
      "metadata": {
        "colab": {
          "base_uri": "https://localhost:8080/"
        },
        "id": "RessXmucF1rM",
        "outputId": "235e1fc3-a7ff-461c-e15a-edf620f84b38"
      },
      "source": [
        "def generator():\r\n",
        "  yield 1\r\n",
        "  yield 'string'\r\n",
        "  yield True\r\n",
        "g= generator()\r\n",
        "g"
      ],
      "execution_count": 15,
      "outputs": [
        {
          "output_type": "execute_result",
          "data": {
            "text/plain": [
              "<generator object generator at 0x7f45472a3650>"
            ]
          },
          "metadata": {
            "tags": []
          },
          "execution_count": 15
        }
      ]
    },
    {
      "cell_type": "code",
      "metadata": {
        "colab": {
          "base_uri": "https://localhost:8080/"
        },
        "id": "Q5BGV8RpGbWS",
        "outputId": "4036c8e9-d36e-4502-d22f-460689ee0a61"
      },
      "source": [
        "next(g)"
      ],
      "execution_count": 16,
      "outputs": [
        {
          "output_type": "execute_result",
          "data": {
            "text/plain": [
              "1"
            ]
          },
          "metadata": {
            "tags": []
          },
          "execution_count": 16
        }
      ]
    },
    {
      "cell_type": "code",
      "metadata": {
        "colab": {
          "base_uri": "https://localhost:8080/",
          "height": 35
        },
        "id": "g6xm7rAoGkGx",
        "outputId": "a6b21ad5-0901-4850-c24e-a4f8e9cc7b08"
      },
      "source": [
        "next(g)"
      ],
      "execution_count": 17,
      "outputs": [
        {
          "output_type": "execute_result",
          "data": {
            "application/vnd.google.colaboratory.intrinsic+json": {
              "type": "string"
            },
            "text/plain": [
              "'string'"
            ]
          },
          "metadata": {
            "tags": []
          },
          "execution_count": 17
        }
      ]
    },
    {
      "cell_type": "code",
      "metadata": {
        "colab": {
          "base_uri": "https://localhost:8080/"
        },
        "id": "S6rNuQd2GmdL",
        "outputId": "ce1408cb-02ae-4c5c-8186-f27cb144e1f4"
      },
      "source": [
        "list(range(5))"
      ],
      "execution_count": 18,
      "outputs": [
        {
          "output_type": "execute_result",
          "data": {
            "text/plain": [
              "[0, 1, 2, 3, 4]"
            ]
          },
          "metadata": {
            "tags": []
          },
          "execution_count": 18
        }
      ]
    },
    {
      "cell_type": "code",
      "metadata": {
        "colab": {
          "base_uri": "https://localhost:8080/"
        },
        "id": "J3tlocdFGrCB",
        "outputId": "9db24ab9-bf7d-4491-ba2a-f57750bf96c5"
      },
      "source": [
        "range(5)"
      ],
      "execution_count": 19,
      "outputs": [
        {
          "output_type": "execute_result",
          "data": {
            "text/plain": [
              "range(0, 5)"
            ]
          },
          "metadata": {
            "tags": []
          },
          "execution_count": 19
        }
      ]
    },
    {
      "cell_type": "code",
      "metadata": {
        "colab": {
          "base_uri": "https://localhost:8080/"
        },
        "id": "vIUHvaf-GsK5",
        "outputId": "587cf543-b1ca-4513-c4ae-7a23d25a7935"
      },
      "source": [
        "type(range(5))"
      ],
      "execution_count": 20,
      "outputs": [
        {
          "output_type": "execute_result",
          "data": {
            "text/plain": [
              "range"
            ]
          },
          "metadata": {
            "tags": []
          },
          "execution_count": 20
        }
      ]
    },
    {
      "cell_type": "code",
      "metadata": {
        "colab": {
          "base_uri": "https://localhost:8080/"
        },
        "id": "wgeW5wMOGxpq",
        "outputId": "a26431da-ec3a-4019-8e32-20d4b8b1c990"
      },
      "source": [
        "for i in range(5):\r\n",
        "    print(i, end='')"
      ],
      "execution_count": 21,
      "outputs": [
        {
          "output_type": "stream",
          "text": [
            "01234"
          ],
          "name": "stdout"
        }
      ]
    },
    {
      "cell_type": "code",
      "metadata": {
        "id": "wWRovwpbG78i"
      },
      "source": [
        "a = [n for n in range(1000000)]\r\n",
        "b = range(1000000)"
      ],
      "execution_count": 22,
      "outputs": []
    },
    {
      "cell_type": "code",
      "metadata": {
        "colab": {
          "base_uri": "https://localhost:8080/"
        },
        "id": "Gi29CTkWG_zG",
        "outputId": "61fe723f-4be0-4973-e2cd-83768418e340"
      },
      "source": [
        "len(a)"
      ],
      "execution_count": 23,
      "outputs": [
        {
          "output_type": "execute_result",
          "data": {
            "text/plain": [
              "1000000"
            ]
          },
          "metadata": {
            "tags": []
          },
          "execution_count": 23
        }
      ]
    },
    {
      "cell_type": "code",
      "metadata": {
        "colab": {
          "base_uri": "https://localhost:8080/"
        },
        "id": "-Qe5Uej4HDzD",
        "outputId": "163d398e-10a9-4ee2-bce6-c3f0ef9f155b"
      },
      "source": [
        "len(b)"
      ],
      "execution_count": 24,
      "outputs": [
        {
          "output_type": "execute_result",
          "data": {
            "text/plain": [
              "1000000"
            ]
          },
          "metadata": {
            "tags": []
          },
          "execution_count": 24
        }
      ]
    },
    {
      "cell_type": "code",
      "metadata": {
        "colab": {
          "base_uri": "https://localhost:8080/"
        },
        "id": "-wfwGObfHFrR",
        "outputId": "b033ef62-7cba-4632-8c34-181e8bcd81d3"
      },
      "source": [
        "len(a)==len(b)"
      ],
      "execution_count": 25,
      "outputs": [
        {
          "output_type": "execute_result",
          "data": {
            "text/plain": [
              "True"
            ]
          },
          "metadata": {
            "tags": []
          },
          "execution_count": 25
        }
      ]
    },
    {
      "cell_type": "code",
      "metadata": {
        "colab": {
          "base_uri": "https://localhost:8080/"
        },
        "id": "NkAZO7nXHIT0",
        "outputId": "bb9e4143-056c-4b51-ce78-0cfa66878eb1"
      },
      "source": [
        "b"
      ],
      "execution_count": 26,
      "outputs": [
        {
          "output_type": "execute_result",
          "data": {
            "text/plain": [
              "range(0, 1000000)"
            ]
          },
          "metadata": {
            "tags": []
          },
          "execution_count": 26
        }
      ]
    },
    {
      "cell_type": "code",
      "metadata": {
        "colab": {
          "base_uri": "https://localhost:8080/"
        },
        "id": "58MHXfBEHLia",
        "outputId": "fe0433de-3069-4ef9-ea6a-e8b101b6be09"
      },
      "source": [
        "type(b)"
      ],
      "execution_count": 27,
      "outputs": [
        {
          "output_type": "execute_result",
          "data": {
            "text/plain": [
              "range"
            ]
          },
          "metadata": {
            "tags": []
          },
          "execution_count": 27
        }
      ]
    },
    {
      "cell_type": "code",
      "metadata": {
        "id": "DtqoAyIDHtad",
        "colab": {
          "base_uri": "https://localhost:8080/"
        },
        "outputId": "530ade1a-8c94-4f35-af3f-fa62bd3b24b9"
      },
      "source": [
        "import sys\r\n",
        "sys.getsizeof(a)"
      ],
      "execution_count": 28,
      "outputs": [
        {
          "output_type": "execute_result",
          "data": {
            "text/plain": [
              "8697472"
            ]
          },
          "metadata": {
            "tags": []
          },
          "execution_count": 28
        }
      ]
    },
    {
      "cell_type": "code",
      "metadata": {
        "colab": {
          "base_uri": "https://localhost:8080/"
        },
        "id": "G8rIx88aHQAq",
        "outputId": "7d801711-a67c-4eba-f621-13c50a16f98d"
      },
      "source": [
        "sys.getsizeof(b)"
      ],
      "execution_count": 29,
      "outputs": [
        {
          "output_type": "execute_result",
          "data": {
            "text/plain": [
              "48"
            ]
          },
          "metadata": {
            "tags": []
          },
          "execution_count": 29
        }
      ]
    },
    {
      "cell_type": "code",
      "metadata": {
        "colab": {
          "base_uri": "https://localhost:8080/"
        },
        "id": "5mNce0EIHT4k",
        "outputId": "4b058471-2160-4638-9a5f-3326f59a7d87"
      },
      "source": [
        "b[999]"
      ],
      "execution_count": 30,
      "outputs": [
        {
          "output_type": "execute_result",
          "data": {
            "text/plain": [
              "999"
            ]
          },
          "metadata": {
            "tags": []
          },
          "execution_count": 30
        }
      ]
    },
    {
      "cell_type": "code",
      "metadata": {
        "colab": {
          "base_uri": "https://localhost:8080/"
        },
        "id": "r3DjZliwHy8i",
        "outputId": "6bd02602-f0a2-4e16-fcee-75a1a6ca6ff6"
      },
      "source": [
        "a=[1,2,3,2,45,2,5]\r\n",
        "a"
      ],
      "execution_count": 31,
      "outputs": [
        {
          "output_type": "execute_result",
          "data": {
            "text/plain": [
              "[1, 2, 3, 2, 45, 2, 5]"
            ]
          },
          "metadata": {
            "tags": []
          },
          "execution_count": 31
        }
      ]
    },
    {
      "cell_type": "code",
      "metadata": {
        "colab": {
          "base_uri": "https://localhost:8080/"
        },
        "id": "ZzcCr0qxH2uS",
        "outputId": "d6e092e9-4399-4812-a4cd-58eb1462aa61"
      },
      "source": [
        "enumerate(a)"
      ],
      "execution_count": 32,
      "outputs": [
        {
          "output_type": "execute_result",
          "data": {
            "text/plain": [
              "<enumerate at 0x7f45453bdbe0>"
            ]
          },
          "metadata": {
            "tags": []
          },
          "execution_count": 32
        }
      ]
    },
    {
      "cell_type": "code",
      "metadata": {
        "colab": {
          "base_uri": "https://localhost:8080/"
        },
        "id": "oi_eBpU5H_e8",
        "outputId": "2ec7fdc3-20df-4996-f3ae-bd509b9a2cd2"
      },
      "source": [
        "list(enumerate(a))"
      ],
      "execution_count": 33,
      "outputs": [
        {
          "output_type": "execute_result",
          "data": {
            "text/plain": [
              "[(0, 1), (1, 2), (2, 3), (3, 2), (4, 45), (5, 2), (6, 5)]"
            ]
          },
          "metadata": {
            "tags": []
          },
          "execution_count": 33
        }
      ]
    },
    {
      "cell_type": "code",
      "metadata": {
        "colab": {
          "base_uri": "https://localhost:8080/"
        },
        "id": "PkurYW-vID0b",
        "outputId": "508102db-0343-44a6-d33f-cb432e771bf4"
      },
      "source": [
        "for i in range(len(a)):\r\n",
        "  print(i, a[i])"
      ],
      "execution_count": 34,
      "outputs": [
        {
          "output_type": "stream",
          "text": [
            "0 1\n",
            "1 2\n",
            "2 3\n",
            "3 2\n",
            "4 45\n",
            "5 2\n",
            "6 5\n"
          ],
          "name": "stdout"
        }
      ]
    },
    {
      "cell_type": "code",
      "metadata": {
        "colab": {
          "base_uri": "https://localhost:8080/"
        },
        "id": "cCEE5MpkIJpw",
        "outputId": "76f8b6db-d926-4faa-bdb7-220f47bef13b"
      },
      "source": [
        "i = 0\r\n",
        "for v in a:\r\n",
        "  print(i,v)\r\n",
        "  i += 1"
      ],
      "execution_count": 35,
      "outputs": [
        {
          "output_type": "stream",
          "text": [
            "0 1\n",
            "1 2\n",
            "2 3\n",
            "3 2\n",
            "4 45\n",
            "5 2\n",
            "6 5\n"
          ],
          "name": "stdout"
        }
      ]
    },
    {
      "cell_type": "code",
      "metadata": {
        "colab": {
          "base_uri": "https://localhost:8080/"
        },
        "id": "ua-OX3LFIPBA",
        "outputId": "1655b0b0-a36c-4041-eeed-720ab78b6d0c"
      },
      "source": [
        "for i, v in enumerate(a):\r\n",
        "  print(i,v)"
      ],
      "execution_count": 36,
      "outputs": [
        {
          "output_type": "stream",
          "text": [
            "0 1\n",
            "1 2\n",
            "2 3\n",
            "3 2\n",
            "4 45\n",
            "5 2\n",
            "6 5\n"
          ],
          "name": "stdout"
        }
      ]
    },
    {
      "cell_type": "code",
      "metadata": {
        "colab": {
          "base_uri": "https://localhost:8080/"
        },
        "id": "lgJCPuZgITMh",
        "outputId": "7aaa682d-6ca6-4cd1-8aa6-7435ba9ca4e2"
      },
      "source": [
        "5/3"
      ],
      "execution_count": 37,
      "outputs": [
        {
          "output_type": "execute_result",
          "data": {
            "text/plain": [
              "1.6666666666666667"
            ]
          },
          "metadata": {
            "tags": []
          },
          "execution_count": 37
        }
      ]
    },
    {
      "cell_type": "code",
      "metadata": {
        "colab": {
          "base_uri": "https://localhost:8080/"
        },
        "id": "idNjOMRlIq1p",
        "outputId": "309db7e2-20d9-4c91-8973-99fe758785f0"
      },
      "source": [
        "type(5/3)"
      ],
      "execution_count": 38,
      "outputs": [
        {
          "output_type": "execute_result",
          "data": {
            "text/plain": [
              "float"
            ]
          },
          "metadata": {
            "tags": []
          },
          "execution_count": 38
        }
      ]
    },
    {
      "cell_type": "code",
      "metadata": {
        "colab": {
          "base_uri": "https://localhost:8080/"
        },
        "id": "_ofAOZO5I_1c",
        "outputId": "35ded820-54f3-4976-a78a-2c7039ba837c"
      },
      "source": [
        "5//3 # 나눗셈 연산자는 int(a/b)와 동일하다"
      ],
      "execution_count": 39,
      "outputs": [
        {
          "output_type": "execute_result",
          "data": {
            "text/plain": [
              "1"
            ]
          },
          "metadata": {
            "tags": []
          },
          "execution_count": 39
        }
      ]
    },
    {
      "cell_type": "code",
      "metadata": {
        "colab": {
          "base_uri": "https://localhost:8080/"
        },
        "id": "AE_zYCvaJB-6",
        "outputId": "069cc5c9-2be2-45ab-be1e-510008199576"
      },
      "source": [
        "type(5//3)"
      ],
      "execution_count": 40,
      "outputs": [
        {
          "output_type": "execute_result",
          "data": {
            "text/plain": [
              "int"
            ]
          },
          "metadata": {
            "tags": []
          },
          "execution_count": 40
        }
      ]
    },
    {
      "cell_type": "code",
      "metadata": {
        "colab": {
          "base_uri": "https://localhost:8080/"
        },
        "id": "F9jlYVIFJDyQ",
        "outputId": "fbc886c5-7914-4bd0-b5ca-d206accef143"
      },
      "source": [
        "type(int(5/3))"
      ],
      "execution_count": 41,
      "outputs": [
        {
          "output_type": "execute_result",
          "data": {
            "text/plain": [
              "int"
            ]
          },
          "metadata": {
            "tags": []
          },
          "execution_count": 41
        }
      ]
    },
    {
      "cell_type": "code",
      "metadata": {
        "colab": {
          "base_uri": "https://localhost:8080/"
        },
        "id": "IL9jGBuzJGaW",
        "outputId": "f1b33022-c088-4063-d7d8-a9fa2f6e0e10"
      },
      "source": [
        "# 나머지\r\n",
        "5%3"
      ],
      "execution_count": 42,
      "outputs": [
        {
          "output_type": "execute_result",
          "data": {
            "text/plain": [
              "2"
            ]
          },
          "metadata": {
            "tags": []
          },
          "execution_count": 42
        }
      ]
    },
    {
      "cell_type": "code",
      "metadata": {
        "colab": {
          "base_uri": "https://localhost:8080/"
        },
        "id": "KBenSRi3JiAQ",
        "outputId": "f47c180a-9f27-4314-c5e1-446a4919cede"
      },
      "source": [
        "# 몫과 나머지를 한 번에 구할 때\r\n",
        "divmod(5,3)"
      ],
      "execution_count": 43,
      "outputs": [
        {
          "output_type": "execute_result",
          "data": {
            "text/plain": [
              "(1, 2)"
            ]
          },
          "metadata": {
            "tags": []
          },
          "execution_count": 43
        }
      ]
    },
    {
      "cell_type": "code",
      "metadata": {
        "colab": {
          "base_uri": "https://localhost:8080/"
        },
        "id": "u2O3u2TLJnUE",
        "outputId": "ba7e8d8b-3ef5-4e05-c0f6-bbff0f239a6b"
      },
      "source": [
        "print('A1','B2')"
      ],
      "execution_count": 44,
      "outputs": [
        {
          "output_type": "stream",
          "text": [
            "A1 B2\n"
          ],
          "name": "stdout"
        }
      ]
    },
    {
      "cell_type": "code",
      "metadata": {
        "colab": {
          "base_uri": "https://localhost:8080/"
        },
        "id": "ycfSCEwnJrkb",
        "outputId": "31f8767f-4877-4bca-e9b6-5031eea0baad"
      },
      "source": [
        "print('A1','B2',sep=',')"
      ],
      "execution_count": 45,
      "outputs": [
        {
          "output_type": "stream",
          "text": [
            "A1,B2\n"
          ],
          "name": "stdout"
        }
      ]
    },
    {
      "cell_type": "code",
      "metadata": {
        "colab": {
          "base_uri": "https://localhost:8080/"
        },
        "id": "eNb9KHz-J2xh",
        "outputId": "8f925aad-87fa-441d-ea38-41b79a900f17"
      },
      "source": [
        "print('aa',end=' ')\r\n",
        "print('bb')"
      ],
      "execution_count": 46,
      "outputs": [
        {
          "output_type": "stream",
          "text": [
            "aa bb\n"
          ],
          "name": "stdout"
        }
      ]
    },
    {
      "cell_type": "code",
      "metadata": {
        "colab": {
          "base_uri": "https://localhost:8080/"
        },
        "id": "lH_qQi_7J8Zh",
        "outputId": "d3cc4715-6d51-43b6-d812-979fb457b846"
      },
      "source": [
        "a = ['A','B']\r\n",
        "print(' '.join(a))\r\n",
        "#리스트를 출력할때는 join으로 묶어서 처리한다."
      ],
      "execution_count": 47,
      "outputs": [
        {
          "output_type": "stream",
          "text": [
            "A B\n"
          ],
          "name": "stdout"
        }
      ]
    },
    {
      "cell_type": "code",
      "metadata": {
        "id": "69lyzljsKMxQ"
      },
      "source": [
        "idx = 1\r\n",
        "fruit = 'Apple'"
      ],
      "execution_count": 48,
      "outputs": []
    },
    {
      "cell_type": "code",
      "metadata": {
        "colab": {
          "base_uri": "https://localhost:8080/"
        },
        "id": "Wi-7o4W7KgI2",
        "outputId": "34f61df8-6592-4384-db73-78361fdfa450"
      },
      "source": [
        "print('{0}: {1}'.format(idx + 1, fruit))"
      ],
      "execution_count": 49,
      "outputs": [
        {
          "output_type": "stream",
          "text": [
            "2: Apple\n"
          ],
          "name": "stdout"
        }
      ]
    },
    {
      "cell_type": "code",
      "metadata": {
        "colab": {
          "base_uri": "https://localhost:8080/"
        },
        "id": "IhLR7EqrKokL",
        "outputId": "f7c46c0a-d28f-4d04-ec29-764ba93d02c7"
      },
      "source": [
        "print('{}:{}'.format(idx+1,fruit))"
      ],
      "execution_count": 50,
      "outputs": [
        {
          "output_type": "stream",
          "text": [
            "2:Apple\n"
          ],
          "name": "stdout"
        }
      ]
    },
    {
      "cell_type": "code",
      "metadata": {
        "colab": {
          "base_uri": "https://localhost:8080/"
        },
        "id": "8OmSwR0DKx9R",
        "outputId": "fb991e44-687a-4362-d770-7ff1d3b49e6c"
      },
      "source": [
        "print(f'{idx+1}:{fruit}')"
      ],
      "execution_count": 51,
      "outputs": [
        {
          "output_type": "stream",
          "text": [
            "2:Apple\n"
          ],
          "name": "stdout"
        }
      ]
    },
    {
      "cell_type": "code",
      "metadata": {
        "id": "faE-WVoqLibR"
      },
      "source": [
        "class MyClass(object):\r\n",
        "  def method_a(self):\r\n",
        "    # 여기에 pass 추가\r\n",
        "    pass\r\n",
        "  \r\n",
        "  def method_b(self):\r\n",
        "    print(\"Method B\")\r\n",
        "\r\n",
        "c = MyClass"
      ],
      "execution_count": 52,
      "outputs": []
    },
    {
      "cell_type": "code",
      "metadata": {
        "id": "LYBdQ1j3L8Wj",
        "colab": {
          "base_uri": "https://localhost:8080/"
        },
        "outputId": "4cf3f8ca-538a-4f40-af31-c1b39f35c574"
      },
      "source": [
        "import pprint\r\n",
        "pprint.pprint(locals())"
      ],
      "execution_count": 53,
      "outputs": [
        {
          "output_type": "stream",
          "text": [
            "{'In': ['',\n",
            "        'sum1 = 0\\nfor i in range(1,10+1):\\n  sum1 += i\\n\\nsum1',\n",
            "        'sum2 = sum(i for i in range(1,10+1))\\nsum2',\n",
            "        'sum3 = sum(range(1,10+1))\\nsum3',\n",
            "        'def are_equal(a,b):\\n  return a==b\\n\\nare_equal(10,10.0)',\n",
            "        'from typing import TypeVar\\n'\n",
            "        '\\n'\n",
            "        \"T = TypeVar('T')\\n\"\n",
            "        \"U = TypeVar('U')\\n\"\n",
            "        '\\n'\n",
            "        'def are_equal(a: T, b:U) -> bool:\\n'\n",
            "        '  return a==b\\n'\n",
            "        '\\n'\n",
            "        'are_equal(10,10.0)',\n",
            "        \"foo = ['A','B','C']\\nfor f in foo:\\n  print(f)\",\n",
            "        'from collections import namedtuple\\n'\n",
            "        'MyStruct = namedtuple(\"MyStruct\",\\'field1 field2 field3\\')\\n'\n",
            "        '\\n'\n",
            "        'm = MyStruct(\"foo\",\"bar\",\"baz\")',\n",
            "        'from dataclasses import dataclass\\n'\n",
            "        '\\n'\n",
            "        '@dataclass\\n'\n",
            "        'class Product:\\n'\n",
            "        '  weight: int = None\\n'\n",
            "        '  price : float = None\\n'\n",
            "        '\\n'\n",
            "        'apple = Product()\\n'\n",
            "        'apple.price = 10',\n",
            "        'from dataclasses import dataclass\\n'\n",
            "        '\\n'\n",
            "        '@dataclass\\n'\n",
            "        'class Rectangle:\\n'\n",
            "        '  width: int\\n'\n",
            "        '  height: int\\n'\n",
            "        '  \\n'\n",
            "        '  def area(self):\\n'\n",
            "        '    return self.width * self.height\\n'\n",
            "        '\\n'\n",
            "        'rect = Rectangle(3,4)\\n'\n",
            "        'print(rect.area())',\n",
            "        'a:str=1\\ntype(a)',\n",
            "        'list(map(lambda x : x+10,[1,2,3]))',\n",
            "        '[n*2 for n in range(1,10+1) if n%2==1]',\n",
            "        'def get_natural_number():\\n'\n",
            "        '  n = 0\\n'\n",
            "        '  while True:\\n'\n",
            "        '    n+=1\\n'\n",
            "        '    yield n\\n'\n",
            "        '\\n'\n",
            "        'get_natural_number()',\n",
            "        'g = get_natural_number()\\nfor _ in range(0,5):\\n  print(next(g))',\n",
            "        'def generator():\\n'\n",
            "        '  yield 1\\n'\n",
            "        \"  yield 'string'\\n\"\n",
            "        '  yield True\\n'\n",
            "        'g= generator()\\n'\n",
            "        'g',\n",
            "        'next(g)',\n",
            "        'next(g)',\n",
            "        'list(range(5))',\n",
            "        'range(5)',\n",
            "        'type(range(5))',\n",
            "        \"for i in range(5):\\n    print(i, end='')\",\n",
            "        'a = [n for n in range(1000000)]\\nb = range(1000000)',\n",
            "        'len(a)',\n",
            "        'len(b)',\n",
            "        'len(a)==len(b)',\n",
            "        'b',\n",
            "        'type(b)',\n",
            "        'import sys\\nsys.getsizeof(a)',\n",
            "        'sys.getsizeof(b)',\n",
            "        'b[999]',\n",
            "        'a=[1,2,3,2,45,2,5]\\na',\n",
            "        'enumerate(a)',\n",
            "        'list(enumerate(a))',\n",
            "        'for i in range(len(a)):\\n  print(i, a[i])',\n",
            "        'i = 0\\nfor v in a:\\n  print(i,v)\\n  i += 1',\n",
            "        'for i, v in enumerate(a):\\n  print(i,v)',\n",
            "        '5/3',\n",
            "        'type(5/3)',\n",
            "        '5//3 # 나눗셈 연산자는 int(a/b)와 동일하다',\n",
            "        'type(5//3)',\n",
            "        'type(int(5/3))',\n",
            "        '# 나머지\\n5%3',\n",
            "        '# 몫과 나머지를 한 번에 구할 때\\ndivmod(5,3)',\n",
            "        \"print('A1','B2')\",\n",
            "        \"print('A1','B2',sep=',')\",\n",
            "        \"print('aa',end=' ')\\nprint('bb')\",\n",
            "        \"a = ['A','B']\\nprint(' '.join(a))\\n#리스트를 출력할때는 join으로 묶어서 처리한다.\",\n",
            "        \"idx = 1\\nfruit = 'Apple'\",\n",
            "        \"print('{0}: {1}'.format(idx + 1, fruit))\",\n",
            "        \"print('{}:{}'.format(idx+1,fruit))\",\n",
            "        \"print(f'{idx+1}:{fruit}')\",\n",
            "        'class MyClass(object):\\n'\n",
            "        '  def method_a(self):\\n'\n",
            "        '    # 여기에 pass 추가\\n'\n",
            "        '    pass\\n'\n",
            "        '  \\n'\n",
            "        '  def method_b(self):\\n'\n",
            "        '    print(\"Method B\")\\n'\n",
            "        '\\n'\n",
            "        'c = MyClass',\n",
            "        'import pprint\\npprint.pprint(locals())'],\n",
            " 'MyClass': <class '__main__.MyClass'>,\n",
            " 'MyStruct': <class '__main__.MyStruct'>,\n",
            " 'Out': {1: 55,\n",
            "         2: 55,\n",
            "         3: 55,\n",
            "         4: True,\n",
            "         5: True,\n",
            "         10: <class 'int'>,\n",
            "         11: [11, 12, 13],\n",
            "         12: [2, 6, 10, 14, 18],\n",
            "         13: <generator object get_natural_number at 0x7f45472f89d0>,\n",
            "         15: <generator object generator at 0x7f45472a3650>,\n",
            "         16: 1,\n",
            "         17: 'string',\n",
            "         18: [0, 1, 2, 3, 4],\n",
            "         19: range(0, 5),\n",
            "         20: <class 'range'>,\n",
            "         23: 1000000,\n",
            "         24: 1000000,\n",
            "         25: True,\n",
            "         26: range(0, 1000000),\n",
            "         27: <class 'range'>,\n",
            "         28: 8697472,\n",
            "         29: 48,\n",
            "         30: 999,\n",
            "         31: [1, 2, 3, 2, 45, 2, 5],\n",
            "         32: <enumerate object at 0x7f45453bdbe0>,\n",
            "         33: [(0, 1), (1, 2), (2, 3), (3, 2), (4, 45), (5, 2), (6, 5)],\n",
            "         37: 1.6666666666666667,\n",
            "         38: <class 'float'>,\n",
            "         39: 1,\n",
            "         40: <class 'int'>,\n",
            "         41: <class 'int'>,\n",
            "         42: 2,\n",
            "         43: (1, 2)},\n",
            " 'Product': <class '__main__.Product'>,\n",
            " 'Rectangle': <class '__main__.Rectangle'>,\n",
            " 'T': ~T,\n",
            " 'TypeVar': <class 'typing.TypeVar'>,\n",
            " 'U': ~U,\n",
            " '_': (1, 2),\n",
            " '_1': 55,\n",
            " '_10': <class 'int'>,\n",
            " '_11': [11, 12, 13],\n",
            " '_12': [2, 6, 10, 14, 18],\n",
            " '_13': <generator object get_natural_number at 0x7f45472f89d0>,\n",
            " '_15': <generator object generator at 0x7f45472a3650>,\n",
            " '_16': 1,\n",
            " '_17': 'string',\n",
            " '_18': [0, 1, 2, 3, 4],\n",
            " '_19': range(0, 5),\n",
            " '_2': 55,\n",
            " '_20': <class 'range'>,\n",
            " '_23': 1000000,\n",
            " '_24': 1000000,\n",
            " '_25': True,\n",
            " '_26': range(0, 1000000),\n",
            " '_27': <class 'range'>,\n",
            " '_28': 8697472,\n",
            " '_29': 48,\n",
            " '_3': 55,\n",
            " '_30': 999,\n",
            " '_31': [1, 2, 3, 2, 45, 2, 5],\n",
            " '_32': <enumerate object at 0x7f45453bdbe0>,\n",
            " '_33': [(0, 1), (1, 2), (2, 3), (3, 2), (4, 45), (5, 2), (6, 5)],\n",
            " '_37': 1.6666666666666667,\n",
            " '_38': <class 'float'>,\n",
            " '_39': 1,\n",
            " '_4': True,\n",
            " '_40': <class 'int'>,\n",
            " '_41': <class 'int'>,\n",
            " '_42': 2,\n",
            " '_43': (1, 2),\n",
            " '_5': True,\n",
            " '__': 2,\n",
            " '___': <class 'int'>,\n",
            " '__annotations__': {'a': <class 'str'>},\n",
            " '__builtin__': <module 'builtins' (built-in)>,\n",
            " '__builtins__': <module 'builtins' (built-in)>,\n",
            " '__doc__': 'Automatically created module for IPython interactive environment',\n",
            " '__loader__': None,\n",
            " '__name__': '__main__',\n",
            " '__package__': None,\n",
            " '__spec__': None,\n",
            " '_dh': ['/content'],\n",
            " '_i': 'class MyClass(object):\\n'\n",
            "       '  def method_a(self):\\n'\n",
            "       '    # 여기에 pass 추가\\n'\n",
            "       '    pass\\n'\n",
            "       '  \\n'\n",
            "       '  def method_b(self):\\n'\n",
            "       '    print(\"Method B\")\\n'\n",
            "       '\\n'\n",
            "       'c = MyClass',\n",
            " '_i1': 'sum1 = 0\\nfor i in range(1,10+1):\\n  sum1 += i\\n\\nsum1',\n",
            " '_i10': 'a:str=1\\ntype(a)',\n",
            " '_i11': 'list(map(lambda x : x+10,[1,2,3]))',\n",
            " '_i12': '[n*2 for n in range(1,10+1) if n%2==1]',\n",
            " '_i13': 'def get_natural_number():\\n'\n",
            "         '  n = 0\\n'\n",
            "         '  while True:\\n'\n",
            "         '    n+=1\\n'\n",
            "         '    yield n\\n'\n",
            "         '\\n'\n",
            "         'get_natural_number()',\n",
            " '_i14': 'g = get_natural_number()\\nfor _ in range(0,5):\\n  print(next(g))',\n",
            " '_i15': 'def generator():\\n'\n",
            "         '  yield 1\\n'\n",
            "         \"  yield 'string'\\n\"\n",
            "         '  yield True\\n'\n",
            "         'g= generator()\\n'\n",
            "         'g',\n",
            " '_i16': 'next(g)',\n",
            " '_i17': 'next(g)',\n",
            " '_i18': 'list(range(5))',\n",
            " '_i19': 'range(5)',\n",
            " '_i2': 'sum2 = sum(i for i in range(1,10+1))\\nsum2',\n",
            " '_i20': 'type(range(5))',\n",
            " '_i21': \"for i in range(5):\\n    print(i, end='')\",\n",
            " '_i22': 'a = [n for n in range(1000000)]\\nb = range(1000000)',\n",
            " '_i23': 'len(a)',\n",
            " '_i24': 'len(b)',\n",
            " '_i25': 'len(a)==len(b)',\n",
            " '_i26': 'b',\n",
            " '_i27': 'type(b)',\n",
            " '_i28': 'import sys\\nsys.getsizeof(a)',\n",
            " '_i29': 'sys.getsizeof(b)',\n",
            " '_i3': 'sum3 = sum(range(1,10+1))\\nsum3',\n",
            " '_i30': 'b[999]',\n",
            " '_i31': 'a=[1,2,3,2,45,2,5]\\na',\n",
            " '_i32': 'enumerate(a)',\n",
            " '_i33': 'list(enumerate(a))',\n",
            " '_i34': 'for i in range(len(a)):\\n  print(i, a[i])',\n",
            " '_i35': 'i = 0\\nfor v in a:\\n  print(i,v)\\n  i += 1',\n",
            " '_i36': 'for i, v in enumerate(a):\\n  print(i,v)',\n",
            " '_i37': '5/3',\n",
            " '_i38': 'type(5/3)',\n",
            " '_i39': '5//3 # 나눗셈 연산자는 int(a/b)와 동일하다',\n",
            " '_i4': 'def are_equal(a,b):\\n  return a==b\\n\\nare_equal(10,10.0)',\n",
            " '_i40': 'type(5//3)',\n",
            " '_i41': 'type(int(5/3))',\n",
            " '_i42': '# 나머지\\n5%3',\n",
            " '_i43': '# 몫과 나머지를 한 번에 구할 때\\ndivmod(5,3)',\n",
            " '_i44': \"print('A1','B2')\",\n",
            " '_i45': \"print('A1','B2',sep=',')\",\n",
            " '_i46': \"print('aa',end=' ')\\nprint('bb')\",\n",
            " '_i47': \"a = ['A','B']\\nprint(' '.join(a))\\n#리스트를 출력할때는 join으로 묶어서 처리한다.\",\n",
            " '_i48': \"idx = 1\\nfruit = 'Apple'\",\n",
            " '_i49': \"print('{0}: {1}'.format(idx + 1, fruit))\",\n",
            " '_i5': 'from typing import TypeVar\\n'\n",
            "        '\\n'\n",
            "        \"T = TypeVar('T')\\n\"\n",
            "        \"U = TypeVar('U')\\n\"\n",
            "        '\\n'\n",
            "        'def are_equal(a: T, b:U) -> bool:\\n'\n",
            "        '  return a==b\\n'\n",
            "        '\\n'\n",
            "        'are_equal(10,10.0)',\n",
            " '_i50': \"print('{}:{}'.format(idx+1,fruit))\",\n",
            " '_i51': \"print(f'{idx+1}:{fruit}')\",\n",
            " '_i52': 'class MyClass(object):\\n'\n",
            "         '  def method_a(self):\\n'\n",
            "         '    # 여기에 pass 추가\\n'\n",
            "         '    pass\\n'\n",
            "         '  \\n'\n",
            "         '  def method_b(self):\\n'\n",
            "         '    print(\"Method B\")\\n'\n",
            "         '\\n'\n",
            "         'c = MyClass',\n",
            " '_i53': 'import pprint\\npprint.pprint(locals())',\n",
            " '_i6': \"foo = ['A','B','C']\\nfor f in foo:\\n  print(f)\",\n",
            " '_i7': 'from collections import namedtuple\\n'\n",
            "        'MyStruct = namedtuple(\"MyStruct\",\\'field1 field2 field3\\')\\n'\n",
            "        '\\n'\n",
            "        'm = MyStruct(\"foo\",\"bar\",\"baz\")',\n",
            " '_i8': 'from dataclasses import dataclass\\n'\n",
            "        '\\n'\n",
            "        '@dataclass\\n'\n",
            "        'class Product:\\n'\n",
            "        '  weight: int = None\\n'\n",
            "        '  price : float = None\\n'\n",
            "        '\\n'\n",
            "        'apple = Product()\\n'\n",
            "        'apple.price = 10',\n",
            " '_i9': 'from dataclasses import dataclass\\n'\n",
            "        '\\n'\n",
            "        '@dataclass\\n'\n",
            "        'class Rectangle:\\n'\n",
            "        '  width: int\\n'\n",
            "        '  height: int\\n'\n",
            "        '  \\n'\n",
            "        '  def area(self):\\n'\n",
            "        '    return self.width * self.height\\n'\n",
            "        '\\n'\n",
            "        'rect = Rectangle(3,4)\\n'\n",
            "        'print(rect.area())',\n",
            " '_ih': ['',\n",
            "         'sum1 = 0\\nfor i in range(1,10+1):\\n  sum1 += i\\n\\nsum1',\n",
            "         'sum2 = sum(i for i in range(1,10+1))\\nsum2',\n",
            "         'sum3 = sum(range(1,10+1))\\nsum3',\n",
            "         'def are_equal(a,b):\\n  return a==b\\n\\nare_equal(10,10.0)',\n",
            "         'from typing import TypeVar\\n'\n",
            "         '\\n'\n",
            "         \"T = TypeVar('T')\\n\"\n",
            "         \"U = TypeVar('U')\\n\"\n",
            "         '\\n'\n",
            "         'def are_equal(a: T, b:U) -> bool:\\n'\n",
            "         '  return a==b\\n'\n",
            "         '\\n'\n",
            "         'are_equal(10,10.0)',\n",
            "         \"foo = ['A','B','C']\\nfor f in foo:\\n  print(f)\",\n",
            "         'from collections import namedtuple\\n'\n",
            "         'MyStruct = namedtuple(\"MyStruct\",\\'field1 field2 field3\\')\\n'\n",
            "         '\\n'\n",
            "         'm = MyStruct(\"foo\",\"bar\",\"baz\")',\n",
            "         'from dataclasses import dataclass\\n'\n",
            "         '\\n'\n",
            "         '@dataclass\\n'\n",
            "         'class Product:\\n'\n",
            "         '  weight: int = None\\n'\n",
            "         '  price : float = None\\n'\n",
            "         '\\n'\n",
            "         'apple = Product()\\n'\n",
            "         'apple.price = 10',\n",
            "         'from dataclasses import dataclass\\n'\n",
            "         '\\n'\n",
            "         '@dataclass\\n'\n",
            "         'class Rectangle:\\n'\n",
            "         '  width: int\\n'\n",
            "         '  height: int\\n'\n",
            "         '  \\n'\n",
            "         '  def area(self):\\n'\n",
            "         '    return self.width * self.height\\n'\n",
            "         '\\n'\n",
            "         'rect = Rectangle(3,4)\\n'\n",
            "         'print(rect.area())',\n",
            "         'a:str=1\\ntype(a)',\n",
            "         'list(map(lambda x : x+10,[1,2,3]))',\n",
            "         '[n*2 for n in range(1,10+1) if n%2==1]',\n",
            "         'def get_natural_number():\\n'\n",
            "         '  n = 0\\n'\n",
            "         '  while True:\\n'\n",
            "         '    n+=1\\n'\n",
            "         '    yield n\\n'\n",
            "         '\\n'\n",
            "         'get_natural_number()',\n",
            "         'g = get_natural_number()\\nfor _ in range(0,5):\\n  print(next(g))',\n",
            "         'def generator():\\n'\n",
            "         '  yield 1\\n'\n",
            "         \"  yield 'string'\\n\"\n",
            "         '  yield True\\n'\n",
            "         'g= generator()\\n'\n",
            "         'g',\n",
            "         'next(g)',\n",
            "         'next(g)',\n",
            "         'list(range(5))',\n",
            "         'range(5)',\n",
            "         'type(range(5))',\n",
            "         \"for i in range(5):\\n    print(i, end='')\",\n",
            "         'a = [n for n in range(1000000)]\\nb = range(1000000)',\n",
            "         'len(a)',\n",
            "         'len(b)',\n",
            "         'len(a)==len(b)',\n",
            "         'b',\n",
            "         'type(b)',\n",
            "         'import sys\\nsys.getsizeof(a)',\n",
            "         'sys.getsizeof(b)',\n",
            "         'b[999]',\n",
            "         'a=[1,2,3,2,45,2,5]\\na',\n",
            "         'enumerate(a)',\n",
            "         'list(enumerate(a))',\n",
            "         'for i in range(len(a)):\\n  print(i, a[i])',\n",
            "         'i = 0\\nfor v in a:\\n  print(i,v)\\n  i += 1',\n",
            "         'for i, v in enumerate(a):\\n  print(i,v)',\n",
            "         '5/3',\n",
            "         'type(5/3)',\n",
            "         '5//3 # 나눗셈 연산자는 int(a/b)와 동일하다',\n",
            "         'type(5//3)',\n",
            "         'type(int(5/3))',\n",
            "         '# 나머지\\n5%3',\n",
            "         '# 몫과 나머지를 한 번에 구할 때\\ndivmod(5,3)',\n",
            "         \"print('A1','B2')\",\n",
            "         \"print('A1','B2',sep=',')\",\n",
            "         \"print('aa',end=' ')\\nprint('bb')\",\n",
            "         \"a = ['A','B']\\nprint(' '.join(a))\\n#리스트를 출력할때는 join으로 묶어서 처리한다.\",\n",
            "         \"idx = 1\\nfruit = 'Apple'\",\n",
            "         \"print('{0}: {1}'.format(idx + 1, fruit))\",\n",
            "         \"print('{}:{}'.format(idx+1,fruit))\",\n",
            "         \"print(f'{idx+1}:{fruit}')\",\n",
            "         'class MyClass(object):\\n'\n",
            "         '  def method_a(self):\\n'\n",
            "         '    # 여기에 pass 추가\\n'\n",
            "         '    pass\\n'\n",
            "         '  \\n'\n",
            "         '  def method_b(self):\\n'\n",
            "         '    print(\"Method B\")\\n'\n",
            "         '\\n'\n",
            "         'c = MyClass',\n",
            "         'import pprint\\npprint.pprint(locals())'],\n",
            " '_ii': \"print(f'{idx+1}:{fruit}')\",\n",
            " '_iii': \"print('{}:{}'.format(idx+1,fruit))\",\n",
            " '_oh': {1: 55,\n",
            "         2: 55,\n",
            "         3: 55,\n",
            "         4: True,\n",
            "         5: True,\n",
            "         10: <class 'int'>,\n",
            "         11: [11, 12, 13],\n",
            "         12: [2, 6, 10, 14, 18],\n",
            "         13: <generator object get_natural_number at 0x7f45472f89d0>,\n",
            "         15: <generator object generator at 0x7f45472a3650>,\n",
            "         16: 1,\n",
            "         17: 'string',\n",
            "         18: [0, 1, 2, 3, 4],\n",
            "         19: range(0, 5),\n",
            "         20: <class 'range'>,\n",
            "         23: 1000000,\n",
            "         24: 1000000,\n",
            "         25: True,\n",
            "         26: range(0, 1000000),\n",
            "         27: <class 'range'>,\n",
            "         28: 8697472,\n",
            "         29: 48,\n",
            "         30: 999,\n",
            "         31: [1, 2, 3, 2, 45, 2, 5],\n",
            "         32: <enumerate object at 0x7f45453bdbe0>,\n",
            "         33: [(0, 1), (1, 2), (2, 3), (3, 2), (4, 45), (5, 2), (6, 5)],\n",
            "         37: 1.6666666666666667,\n",
            "         38: <class 'float'>,\n",
            "         39: 1,\n",
            "         40: <class 'int'>,\n",
            "         41: <class 'int'>,\n",
            "         42: 2,\n",
            "         43: (1, 2)},\n",
            " '_sh': <module 'IPython.core.shadowns' from '/usr/local/lib/python3.7/dist-packages/IPython/core/shadowns.py'>,\n",
            " 'a': ['A', 'B'],\n",
            " 'apple': Product(weight=None, price=10),\n",
            " 'are_equal': <function are_equal at 0x7f4547b45a70>,\n",
            " 'b': range(0, 1000000),\n",
            " 'c': <class '__main__.MyClass'>,\n",
            " 'dataclass': <function dataclass at 0x7f4547299ef0>,\n",
            " 'exit': <IPython.core.autocall.ZMQExitAutocall object at 0x7f454a1011d0>,\n",
            " 'f': 'C',\n",
            " 'foo': ['A', 'B', 'C'],\n",
            " 'fruit': 'Apple',\n",
            " 'g': <generator object generator at 0x7f45472a3650>,\n",
            " 'generator': <function generator at 0x7f45472aa050>,\n",
            " 'get_ipython': <bound method InteractiveShell.get_ipython of <google.colab._shell.Shell object at 0x7f454c959d50>>,\n",
            " 'get_natural_number': <function get_natural_number at 0x7f4547302c20>,\n",
            " 'i': 6,\n",
            " 'idx': 1,\n",
            " 'm': MyStruct(field1='foo', field2='bar', field3='baz'),\n",
            " 'namedtuple': <function namedtuple at 0x7f4568572290>,\n",
            " 'pprint': <module 'pprint' from '/usr/lib/python3.7/pprint.py'>,\n",
            " 'quit': <IPython.core.autocall.ZMQExitAutocall object at 0x7f454a1011d0>,\n",
            " 'rect': Rectangle(width=3, height=4),\n",
            " 'sum1': 55,\n",
            " 'sum2': 55,\n",
            " 'sum3': 55,\n",
            " 'sys': <module 'sys' (built-in)>,\n",
            " 'v': 5}\n"
          ],
          "name": "stdout"
        }
      ]
    },
    {
      "cell_type": "code",
      "metadata": {
        "id": "nNJqMqqPQMLf"
      },
      "source": [
        "def foo(a,b=None):\r\n",
        "         if b is None:\r\n",
        "            b=[]"
      ],
      "execution_count": 54,
      "outputs": []
    },
    {
      "cell_type": "code",
      "metadata": {
        "id": "zT-kbLT0zls-"
      },
      "source": [
        "# def foo(a,b: Optional[Sequence]=None):\r\n",
        "        # if b is None:\r\n",
        "          # b=[]"
      ],
      "execution_count": 55,
      "outputs": []
    },
    {
      "cell_type": "code",
      "metadata": {
        "colab": {
          "base_uri": "https://localhost:8080/"
        },
        "id": "xDh4PGwaReoy",
        "outputId": "11605600-131d-474b-8a57-4caed6fd068c"
      },
      "source": [
        "import this"
      ],
      "execution_count": 56,
      "outputs": [
        {
          "output_type": "stream",
          "text": [
            "The Zen of Python, by Tim Peters\n",
            "\n",
            "Beautiful is better than ugly.\n",
            "Explicit is better than implicit.\n",
            "Simple is better than complex.\n",
            "Complex is better than complicated.\n",
            "Flat is better than nested.\n",
            "Sparse is better than dense.\n",
            "Readability counts.\n",
            "Special cases aren't special enough to break the rules.\n",
            "Although practicality beats purity.\n",
            "Errors should never pass silently.\n",
            "Unless explicitly silenced.\n",
            "In the face of ambiguity, refuse the temptation to guess.\n",
            "There should be one-- and preferably only one --obvious way to do it.\n",
            "Although that way may not be obvious at first unless you're Dutch.\n",
            "Now is better than never.\n",
            "Although never is often better than *right* now.\n",
            "If the implementation is hard to explain, it's a bad idea.\n",
            "If the implementation is easy to explain, it may be a good idea.\n",
            "Namespaces are one honking great idea -- let's do more of those!\n"
          ],
          "name": "stdout"
        }
      ]
    },
    {
      "cell_type": "markdown",
      "metadata": {
        "id": "2tv-6cMRzs1u"
      },
      "source": [
        "### 4장"
      ]
    },
    {
      "cell_type": "code",
      "metadata": {
        "colab": {
          "base_uri": "https://localhost:8080/"
        },
        "id": "Oylz4FBvRia4",
        "outputId": "ebbc8db7-43b2-4a20-8499-72b4782d6502"
      },
      "source": [
        "for n in range(1, 15+1):\r\n",
        "  print(n, n**2,2**n)"
      ],
      "execution_count": 57,
      "outputs": [
        {
          "output_type": "stream",
          "text": [
            "1 1 2\n",
            "2 4 4\n",
            "3 9 8\n",
            "4 16 16\n",
            "5 25 32\n",
            "6 36 64\n",
            "7 49 128\n",
            "8 64 256\n",
            "9 81 512\n",
            "10 100 1024\n",
            "11 121 2048\n",
            "12 144 4096\n",
            "13 169 8192\n",
            "14 196 16384\n",
            "15 225 32768\n"
          ],
          "name": "stdout"
        }
      ]
    },
    {
      "cell_type": "code",
      "metadata": {
        "id": "dpKOWkaTRrJY"
      },
      "source": [
        "# object>int>bool"
      ],
      "execution_count": 58,
      "outputs": []
    },
    {
      "cell_type": "code",
      "metadata": {
        "colab": {
          "base_uri": "https://localhost:8080/"
        },
        "id": "st6RUSfqR6Aq",
        "outputId": "90ba2088-be9b-4201-bcff-36eef775137c"
      },
      "source": [
        "True ==1"
      ],
      "execution_count": 59,
      "outputs": [
        {
          "output_type": "execute_result",
          "data": {
            "text/plain": [
              "True"
            ]
          },
          "metadata": {
            "tags": []
          },
          "execution_count": 59
        }
      ]
    },
    {
      "cell_type": "code",
      "metadata": {
        "colab": {
          "base_uri": "https://localhost:8080/"
        },
        "id": "dlKBDAMmR7q8",
        "outputId": "16e60142-0cf3-4d31-e135-5b438e42b801"
      },
      "source": [
        "False==0"
      ],
      "execution_count": 60,
      "outputs": [
        {
          "output_type": "execute_result",
          "data": {
            "text/plain": [
              "True"
            ]
          },
          "metadata": {
            "tags": []
          },
          "execution_count": 60
        }
      ]
    },
    {
      "cell_type": "code",
      "metadata": {
        "colab": {
          "base_uri": "https://localhost:8080/"
        },
        "id": "GLiS-kmqR872",
        "outputId": "8fe326d5-2866-4acd-b028-0159d4ad2202"
      },
      "source": [
        "a = set()\r\n",
        "a"
      ],
      "execution_count": 61,
      "outputs": [
        {
          "output_type": "execute_result",
          "data": {
            "text/plain": [
              "set()"
            ]
          },
          "metadata": {
            "tags": []
          },
          "execution_count": 61
        }
      ]
    },
    {
      "cell_type": "code",
      "metadata": {
        "colab": {
          "base_uri": "https://localhost:8080/"
        },
        "id": "ay9zBxTiR_x3",
        "outputId": "cb8e9e59-024d-447f-a125-3d4c1ec00a7a"
      },
      "source": [
        "type(a)"
      ],
      "execution_count": 62,
      "outputs": [
        {
          "output_type": "execute_result",
          "data": {
            "text/plain": [
              "set"
            ]
          },
          "metadata": {
            "tags": []
          },
          "execution_count": 62
        }
      ]
    },
    {
      "cell_type": "code",
      "metadata": {
        "colab": {
          "base_uri": "https://localhost:8080/"
        },
        "id": "fa3Gac45SC0w",
        "outputId": "1758cfad-125f-4e11-e20f-3375ed3d35c7"
      },
      "source": [
        "a={'a','b','c'}\r\n",
        "type(a)"
      ],
      "execution_count": 63,
      "outputs": [
        {
          "output_type": "execute_result",
          "data": {
            "text/plain": [
              "set"
            ]
          },
          "metadata": {
            "tags": []
          },
          "execution_count": 63
        }
      ]
    },
    {
      "cell_type": "code",
      "metadata": {
        "colab": {
          "base_uri": "https://localhost:8080/"
        },
        "id": "xTXa032BSPbN",
        "outputId": "ad8b42f1-79a2-4ec1-9ac8-c42ed38c3635"
      },
      "source": [
        "a={'a':'A','b':'B','c':'C'}\r\n",
        "type(a)"
      ],
      "execution_count": 64,
      "outputs": [
        {
          "output_type": "execute_result",
          "data": {
            "text/plain": [
              "dict"
            ]
          },
          "metadata": {
            "tags": []
          },
          "execution_count": 64
        }
      ]
    },
    {
      "cell_type": "code",
      "metadata": {
        "colab": {
          "base_uri": "https://localhost:8080/"
        },
        "id": "ACafRdx5SXNZ",
        "outputId": "7a61ca31-8de8-4951-f99a-265540547b2e"
      },
      "source": [
        "a={3,2,3,5}\r\n",
        "a"
      ],
      "execution_count": 65,
      "outputs": [
        {
          "output_type": "execute_result",
          "data": {
            "text/plain": [
              "{2, 3, 5}"
            ]
          },
          "metadata": {
            "tags": []
          },
          "execution_count": 65
        }
      ]
    },
    {
      "cell_type": "code",
      "metadata": {
        "colab": {
          "base_uri": "https://localhost:8080/"
        },
        "id": "5QbcZaglSZ6k",
        "outputId": "40838e3d-240c-48f8-dc92-b5d001d942ab"
      },
      "source": [
        "a='abc'\r\n",
        "a='def'\r\n",
        "type(a)"
      ],
      "execution_count": 66,
      "outputs": [
        {
          "output_type": "execute_result",
          "data": {
            "text/plain": [
              "str"
            ]
          },
          "metadata": {
            "tags": []
          },
          "execution_count": 66
        }
      ]
    },
    {
      "cell_type": "code",
      "metadata": {
        "colab": {
          "base_uri": "https://localhost:8080/"
        },
        "id": "JbniCKv_SfmW",
        "outputId": "1eda6208-bb03-4a6a-d5f6-410ab0c9b70f"
      },
      "source": [
        "a = 'abc'\r\n",
        "id('abc')"
      ],
      "execution_count": 67,
      "outputs": [
        {
          "output_type": "execute_result",
          "data": {
            "text/plain": [
              "139936080817264"
            ]
          },
          "metadata": {
            "tags": []
          },
          "execution_count": 67
        }
      ]
    },
    {
      "cell_type": "code",
      "metadata": {
        "colab": {
          "base_uri": "https://localhost:8080/"
        },
        "id": "9XxIyBP0SnrP",
        "outputId": "83a29fc9-05b8-49c5-891d-110feebeeaf5"
      },
      "source": [
        "id(a)"
      ],
      "execution_count": 68,
      "outputs": [
        {
          "output_type": "execute_result",
          "data": {
            "text/plain": [
              "139936080817264"
            ]
          },
          "metadata": {
            "tags": []
          },
          "execution_count": 68
        }
      ]
    },
    {
      "cell_type": "code",
      "metadata": {
        "colab": {
          "base_uri": "https://localhost:8080/"
        },
        "id": "BIYwxa9KSown",
        "outputId": "439e7c17-fb97-48b1-a1ef-158ed620c80d"
      },
      "source": [
        "a='def'\r\n",
        "id('def')"
      ],
      "execution_count": 69,
      "outputs": [
        {
          "output_type": "execute_result",
          "data": {
            "text/plain": [
              "139936079961904"
            ]
          },
          "metadata": {
            "tags": []
          },
          "execution_count": 69
        }
      ]
    },
    {
      "cell_type": "code",
      "metadata": {
        "colab": {
          "base_uri": "https://localhost:8080/"
        },
        "id": "ReD-OXaHSsLs",
        "outputId": "1e360cd8-1459-4cd5-a678-f08cea74d5f1"
      },
      "source": [
        "id(a)"
      ],
      "execution_count": 70,
      "outputs": [
        {
          "output_type": "execute_result",
          "data": {
            "text/plain": [
              "139936079961904"
            ]
          },
          "metadata": {
            "tags": []
          },
          "execution_count": 70
        }
      ]
    },
    {
      "cell_type": "code",
      "metadata": {
        "colab": {
          "base_uri": "https://localhost:8080/"
        },
        "id": "F16NKUebTZO-",
        "outputId": "14683df1-963a-4667-b5ab-4390413b23db"
      },
      "source": [
        "10\r\n",
        "a=10\r\n",
        "b=a\r\n",
        "id(10), id(a), id(b)"
      ],
      "execution_count": 71,
      "outputs": [
        {
          "output_type": "execute_result",
          "data": {
            "text/plain": [
              "(94105745263392, 94105745263392, 94105745263392)"
            ]
          },
          "metadata": {
            "tags": []
          },
          "execution_count": 71
        }
      ]
    },
    {
      "cell_type": "code",
      "metadata": {
        "colab": {
          "base_uri": "https://localhost:8080/"
        },
        "id": "bP8-l1ZDTh79",
        "outputId": "c7bbaade-c8fd-4d72-ab6d-074300f041c5"
      },
      "source": [
        "a=[1,2,3,4,5]\r\n",
        "b=a\r\n",
        "b"
      ],
      "execution_count": 72,
      "outputs": [
        {
          "output_type": "execute_result",
          "data": {
            "text/plain": [
              "[1, 2, 3, 4, 5]"
            ]
          },
          "metadata": {
            "tags": []
          },
          "execution_count": 72
        }
      ]
    },
    {
      "cell_type": "code",
      "metadata": {
        "colab": {
          "base_uri": "https://localhost:8080/"
        },
        "id": "3_Lp88z9TuN8",
        "outputId": "51636b3b-4fd1-411a-82ea-eac1922882af"
      },
      "source": [
        "a[2]=4\r\n",
        "a"
      ],
      "execution_count": 73,
      "outputs": [
        {
          "output_type": "execute_result",
          "data": {
            "text/plain": [
              "[1, 2, 4, 4, 5]"
            ]
          },
          "metadata": {
            "tags": []
          },
          "execution_count": 73
        }
      ]
    },
    {
      "cell_type": "code",
      "metadata": {
        "colab": {
          "base_uri": "https://localhost:8080/"
        },
        "id": "YUjj4NkCT0TG",
        "outputId": "0bf59bc6-8969-4205-c275-30d29257dec2"
      },
      "source": [
        "b"
      ],
      "execution_count": 74,
      "outputs": [
        {
          "output_type": "execute_result",
          "data": {
            "text/plain": [
              "[1, 2, 4, 4, 5]"
            ]
          },
          "metadata": {
            "tags": []
          },
          "execution_count": 74
        }
      ]
    },
    {
      "cell_type": "code",
      "metadata": {
        "colab": {
          "base_uri": "https://localhost:8080/"
        },
        "id": "R0-WZ2gWT1DW",
        "outputId": "cc804cd1-67ee-4a70-a177-9e95bddb1a14"
      },
      "source": [
        "a=[1,2,3]\r\n",
        "b=a\r\n",
        "b[2]=5\r\n",
        "a"
      ],
      "execution_count": 75,
      "outputs": [
        {
          "output_type": "execute_result",
          "data": {
            "text/plain": [
              "[1, 2, 5]"
            ]
          },
          "metadata": {
            "tags": []
          },
          "execution_count": 75
        }
      ]
    },
    {
      "cell_type": "code",
      "metadata": {
        "colab": {
          "base_uri": "https://localhost:8080/"
        },
        "id": "uIVyyaZ_UG9D",
        "outputId": "8626753b-9c64-4a0f-d78f-fca726b1e251"
      },
      "source": [
        "a=[1,2,3]\r\n",
        "a == a"
      ],
      "execution_count": 76,
      "outputs": [
        {
          "output_type": "execute_result",
          "data": {
            "text/plain": [
              "True"
            ]
          },
          "metadata": {
            "tags": []
          },
          "execution_count": 76
        }
      ]
    },
    {
      "cell_type": "code",
      "metadata": {
        "colab": {
          "base_uri": "https://localhost:8080/"
        },
        "id": "_YLvQD1mUKq-",
        "outputId": "05b79069-5362-4f5f-983f-0f0f5387438c"
      },
      "source": [
        "a == list(a)"
      ],
      "execution_count": 77,
      "outputs": [
        {
          "output_type": "execute_result",
          "data": {
            "text/plain": [
              "True"
            ]
          },
          "metadata": {
            "tags": []
          },
          "execution_count": 77
        }
      ]
    },
    {
      "cell_type": "code",
      "metadata": {
        "colab": {
          "base_uri": "https://localhost:8080/"
        },
        "id": "4Mf1_LhpUcS9",
        "outputId": "a860f91e-2508-400c-da03-7529776c1be7"
      },
      "source": [
        "a is a"
      ],
      "execution_count": 78,
      "outputs": [
        {
          "output_type": "execute_result",
          "data": {
            "text/plain": [
              "True"
            ]
          },
          "metadata": {
            "tags": []
          },
          "execution_count": 78
        }
      ]
    },
    {
      "cell_type": "code",
      "metadata": {
        "colab": {
          "base_uri": "https://localhost:8080/"
        },
        "id": "l2QhpqPWUdN8",
        "outputId": "f0e4c078-a392-4c3c-fe93-ec889a2b7b90"
      },
      "source": [
        "a is list(a)"
      ],
      "execution_count": 79,
      "outputs": [
        {
          "output_type": "execute_result",
          "data": {
            "text/plain": [
              "False"
            ]
          },
          "metadata": {
            "tags": []
          },
          "execution_count": 79
        }
      ]
    },
    {
      "cell_type": "code",
      "metadata": {
        "colab": {
          "base_uri": "https://localhost:8080/"
        },
        "id": "KjhTmC6yUes0",
        "outputId": "84ca5bae-a281-4986-afae-d944f413f09f"
      },
      "source": [
        "import copy\r\n",
        "a=[1,2,3]\r\n",
        "a == copy.deepcopy(a)"
      ],
      "execution_count": 80,
      "outputs": [
        {
          "output_type": "execute_result",
          "data": {
            "text/plain": [
              "True"
            ]
          },
          "metadata": {
            "tags": []
          },
          "execution_count": 80
        }
      ]
    },
    {
      "cell_type": "code",
      "metadata": {
        "colab": {
          "base_uri": "https://localhost:8080/"
        },
        "id": "6jY_on0hU3I1",
        "outputId": "c5cad026-97fc-45fd-d96e-d747b01696df"
      },
      "source": [
        "a is copy.deepcopy(a)"
      ],
      "execution_count": 81,
      "outputs": [
        {
          "output_type": "execute_result",
          "data": {
            "text/plain": [
              "False"
            ]
          },
          "metadata": {
            "tags": []
          },
          "execution_count": 81
        }
      ]
    }
  ]
}